{
 "cells": [
  {
   "cell_type": "code",
   "execution_count": 3,
   "metadata": {},
   "outputs": [],
   "source": [
    "import time\n",
    "from math import sqrt"
   ]
  },
  {
   "cell_type": "markdown",
   "metadata": {},
   "source": [
    "from stackoverflow\n"
   ]
  },
  {
   "cell_type": "code",
   "execution_count": 378,
   "metadata": {},
   "outputs": [],
   "source": [
    "def prime_list(n):\n",
    "    out = [1]\n",
    "    sieve = [True] * (n+1)\n",
    "    for p in range(2, n+1):\n",
    "        if (sieve[p] and sieve[p]%2==1):\n",
    "            out.append(p)\n",
    "            for i in range(p, n+1, p):\n",
    "                sieve[i] = False\n",
    "    return out"
   ]
  },
  {
   "cell_type": "code",
   "execution_count": 379,
   "metadata": {},
   "outputs": [],
   "source": [
    "a = []\n",
    "b = []"
   ]
  },
  {
   "cell_type": "code",
   "execution_count": 380,
   "metadata": {},
   "outputs": [
    {
     "name": "stdout",
     "output_type": "stream",
     "text": [
      "0.020996949195861817\n"
     ]
    }
   ],
   "source": [
    "for i in range(100):\n",
    "    start = time.time()\n",
    "    prime_list(1000000)\n",
    "    end = time.time()\n",
    "    a.append(end - start)\n",
    "b += [sum(a)/1000]\n",
    "print(b[-1])\n",
    "a = []\n",
    "\n"
   ]
  },
  {
   "cell_type": "markdown",
   "metadata": {},
   "source": [
    "inline add instead of .append()"
   ]
  },
  {
   "cell_type": "code",
   "execution_count": 381,
   "metadata": {},
   "outputs": [],
   "source": [
    "def prime_list(n):\n",
    "    out = [1]\n",
    "    sieve = [True] * (n+1)\n",
    "    for p in range(2, n+1):\n",
    "        if (sieve[p] and sieve[p]%2==1):\n",
    "            out += [p]\n",
    "            for i in range(p, n+1, p):\n",
    "                sieve[i] = False\n",
    "    return out"
   ]
  },
  {
   "cell_type": "code",
   "execution_count": 382,
   "metadata": {},
   "outputs": [
    {
     "name": "stdout",
     "output_type": "stream",
     "text": [
      "0.017764200687408447\n"
     ]
    }
   ],
   "source": [
    "for i in range(100):\n",
    "    start = time.time()\n",
    "    prime_list(1000000)\n",
    "    end = time.time()\n",
    "    a.append(end - start)\n",
    "b += [sum(a)/1000]\n",
    "print(b[-1])\n",
    "a = []"
   ]
  },
  {
   "cell_type": "markdown",
   "metadata": {},
   "source": [
    "set instead of list"
   ]
  },
  {
   "cell_type": "code",
   "execution_count": 383,
   "metadata": {},
   "outputs": [],
   "source": [
    "def prime_list(n):\n",
    "    out = {1}\n",
    "    sieve = [True] * (n+1)\n",
    "    for p in range(2, n+1):\n",
    "        if (sieve[p] and sieve[p]%2==1):\n",
    "            out.add(p)\n",
    "            for i in range(p, n+1, p):\n",
    "                sieve[i] = False\n",
    "    return out"
   ]
  },
  {
   "cell_type": "code",
   "execution_count": 384,
   "metadata": {},
   "outputs": [
    {
     "name": "stdout",
     "output_type": "stream",
     "text": [
      "0.017899725437164307\n"
     ]
    }
   ],
   "source": [
    "for i in range(100):\n",
    "    start = time.time()\n",
    "    prime_list(1000000)\n",
    "    end = time.time()\n",
    "    a.append(end - start)\n",
    "b += [sum(a)/1000]\n",
    "print(b[-1])\n",
    "a = []"
   ]
  },
  {
   "cell_type": "markdown",
   "metadata": {},
   "source": [
    "removing brackets in comparsion"
   ]
  },
  {
   "cell_type": "code",
   "execution_count": 385,
   "metadata": {},
   "outputs": [],
   "source": [
    "def prime_list(n):\n",
    "    out = {1}\n",
    "    sieve = [True] * (n+1)\n",
    "    for p in range(2, n+1):\n",
    "        if sieve[p] and sieve[p]%2==1:\n",
    "            out.add(p)\n",
    "            for i in range(p, n+1, p):\n",
    "                sieve[i] = False\n",
    "    return out"
   ]
  },
  {
   "cell_type": "code",
   "execution_count": 386,
   "metadata": {},
   "outputs": [
    {
     "name": "stdout",
     "output_type": "stream",
     "text": [
      "0.017642046689987183\n"
     ]
    }
   ],
   "source": [
    "for i in range(100):\n",
    "    start = time.time()\n",
    "    prime_list(1000000)\n",
    "    end = time.time()\n",
    "    a.append(end - start)\n",
    "b += [sum(a)/1000]\n",
    "print(b[-1])\n",
    "a = []"
   ]
  },
  {
   "cell_type": "markdown",
   "metadata": {},
   "source": [
    "comparsion now has a meaning"
   ]
  },
  {
   "cell_type": "code",
   "execution_count": 387,
   "metadata": {},
   "outputs": [],
   "source": [
    "def prime_list(n):\n",
    "    out = {1}\n",
    "    sieve = [True] * (n+1)\n",
    "    for p in range(2, n+1):\n",
    "        if sieve[p] and p%2==1:\n",
    "            out.add(p)\n",
    "            for i in range(p, n+1, p):\n",
    "                sieve[i] = False\n",
    "    return out"
   ]
  },
  {
   "cell_type": "code",
   "execution_count": 388,
   "metadata": {},
   "outputs": [
    {
     "name": "stdout",
     "output_type": "stream",
     "text": [
      "0.01611343193054199\n"
     ]
    }
   ],
   "source": [
    "for i in range(100):\n",
    "    start = time.time()\n",
    "    prime_list(1000000)\n",
    "    end = time.time()\n",
    "    a.append(end - start)\n",
    "b += [sum(a)/1000]\n",
    "print(b[-1])\n",
    "a = []"
   ]
  },
  {
   "cell_type": "markdown",
   "metadata": {},
   "source": [
    "iterate step = 2"
   ]
  },
  {
   "cell_type": "code",
   "execution_count": 389,
   "metadata": {},
   "outputs": [],
   "source": [
    "def prime_list(n):\n",
    "    out = {1,2}\n",
    "    sieve = [True] * (n+1)\n",
    "    for i in range(2, n+1, 2):\n",
    "        sieve[i] = False\n",
    "    for p in range(3, n+1, 2):\n",
    "        if sieve[p] and p%2==1:\n",
    "            out.add(p)\n",
    "            for i in range(p, n+1, p):\n",
    "                sieve[i] = False\n",
    "    return out"
   ]
  },
  {
   "cell_type": "code",
   "execution_count": 390,
   "metadata": {},
   "outputs": [
    {
     "name": "stdout",
     "output_type": "stream",
     "text": [
      "0.015778769731521605\n"
     ]
    }
   ],
   "source": [
    "for i in range(100):\n",
    "    start = time.time()\n",
    "    prime_list(1000000)\n",
    "    end = time.time()\n",
    "    a.append(end - start)\n",
    "b += [sum(a)/1000]\n",
    "print(b[-1])\n",
    "a = []"
   ]
  },
  {
   "cell_type": "markdown",
   "metadata": {},
   "source": [
    "list comp initilize"
   ]
  },
  {
   "cell_type": "code",
   "execution_count": 391,
   "metadata": {},
   "outputs": [],
   "source": [
    "def prime_list(n):\n",
    "    out = {1, 2}\n",
    "    sieve = [bool(i%2) for i in range(n+1)]\n",
    "    for i in range(2, n+1, 2):\n",
    "                sieve[i] = False\n",
    "    for p in range(3, n+1, 2):\n",
    "        if sieve[p] and p%2==1:\n",
    "            out.add(p)\n",
    "            for i in range(p, n+1, p):\n",
    "                sieve[i] = False\n",
    "    return out"
   ]
  },
  {
   "cell_type": "code",
   "execution_count": 392,
   "metadata": {},
   "outputs": [
    {
     "name": "stdout",
     "output_type": "stream",
     "text": [
      "0.023807360172271728\n"
     ]
    }
   ],
   "source": [
    "for i in range(100):\n",
    "    start = time.time()\n",
    "    prime_list(1000000)\n",
    "    end = time.time()\n",
    "    a.append(end - start)\n",
    "b += [sum(a)/1000]\n",
    "print(b[-1])\n",
    "a = []"
   ]
  },
  {
   "cell_type": "markdown",
   "metadata": {},
   "source": [
    "inner loop from p^2 and outer till sqrt(n)"
   ]
  },
  {
   "cell_type": "code",
   "execution_count": 393,
   "metadata": {},
   "outputs": [],
   "source": [
    "def prime_list(n):\n",
    "    out = {1,2}\n",
    "    sieve = [True] * (n+1)\n",
    "    for i in range(2, n+1, 2):\n",
    "        sieve[i] = False\n",
    "    stop = int(sqrt(n+1))\n",
    "    for p in range(3, stop, 2):\n",
    "        if sieve[p] and p%2==1:\n",
    "            out.add(p)\n",
    "            for i in range(p*p, n+1, p):\n",
    "                sieve[i] = False\n",
    "    for i in range(stop-stop%2-1, n+1, 2):\n",
    "        if sieve[i]:\n",
    "            out.add(i)\n",
    "    return out"
   ]
  },
  {
   "cell_type": "code",
   "execution_count": 394,
   "metadata": {},
   "outputs": [
    {
     "name": "stdout",
     "output_type": "stream",
     "text": [
      "0.01022258996963501\n"
     ]
    }
   ],
   "source": [
    "for i in range(100):\n",
    "    start = time.time()\n",
    "    prime_list(1000000)\n",
    "    end = time.time()\n",
    "    a.append(end - start)\n",
    "b += [sum(a)/1000]\n",
    "print(b[-1])\n",
    "a = []"
   ]
  },
  {
   "cell_type": "markdown",
   "metadata": {},
   "source": [
    "again list"
   ]
  },
  {
   "cell_type": "code",
   "execution_count": 395,
   "metadata": {},
   "outputs": [],
   "source": [
    "def prime_list(n):\n",
    "    out = [1,2]\n",
    "    sieve = [True] * (n+1)\n",
    "    for i in range(2, n+1, 2):\n",
    "        sieve[i] = False\n",
    "    stop = int(sqrt(n+1))\n",
    "    for p in range(3, stop, 2):\n",
    "        if sieve[p] and p%2==1:\n",
    "            out.append(p)\n",
    "            for i in range(p*p, n+1, p):\n",
    "                sieve[i] = False\n",
    "    for i in range(stop-stop%2-1, n+1, 2):\n",
    "        if sieve[i]:\n",
    "            out.append(i)\n",
    "    return out"
   ]
  },
  {
   "cell_type": "code",
   "execution_count": 396,
   "metadata": {},
   "outputs": [
    {
     "name": "stdout",
     "output_type": "stream",
     "text": [
      "0.010110170125961304\n"
     ]
    }
   ],
   "source": [
    "for i in range(100):\n",
    "    start = time.time()\n",
    "    prime_list(1000000)\n",
    "    end = time.time()\n",
    "    a.append(end - start)\n",
    "b += [sum(a)/1000]\n",
    "print(b[-1])\n",
    "a = []"
   ]
  },
  {
   "cell_type": "markdown",
   "metadata": {},
   "source": [
    "hw task"
   ]
  },
  {
   "cell_type": "code",
   "execution_count": 4,
   "metadata": {},
   "outputs": [],
   "source": [
    "def prime_list(start: int, end: int) -> list:\n",
    "    if start >= end:\n",
    "        raise ValueError('beginning must have lower value than ending')\n",
    "    elif end < 1:\n",
    "        return []\n",
    "    elif end == 1:\n",
    "        return [1]\n",
    "    elif end == 2:\n",
    "        return [1, 2]\n",
    "    \n",
    "    out = list()                                              \n",
    "    sieve = [True] * (end+1)                            #сітка для викреслювання\n",
    "    stop = int(sqrt(end+1))\n",
    "    \n",
    "    for p in range(3, stop, 2):\n",
    "        if sieve[p] and p%2==1:\n",
    "            for i in range(p*p, end+1, p):\n",
    "                sieve[i] = False\n",
    "\n",
    "    for i in range(start-start%2+1, end+1, 2):\n",
    "        if sieve[i]:\n",
    "            out.append(i)\n",
    "\n",
    "    return out"
   ]
  }
 ],
 "metadata": {
  "kernelspec": {
   "display_name": "Python 3",
   "language": "python",
   "name": "python3"
  },
  "language_info": {
   "codemirror_mode": {
    "name": "ipython",
    "version": 3
   },
   "file_extension": ".py",
   "mimetype": "text/x-python",
   "name": "python",
   "nbconvert_exporter": "python",
   "pygments_lexer": "ipython3",
   "version": "3.12.0"
  }
 },
 "nbformat": 4,
 "nbformat_minor": 2
}
